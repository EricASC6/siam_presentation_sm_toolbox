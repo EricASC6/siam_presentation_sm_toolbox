{
 "cells": [
  {
   "cell_type": "code",
   "execution_count": 126,
   "metadata": {},
   "outputs": [],
   "source": [
    "import numpy as np\n",
    "import logging"
   ]
  },
  {
   "cell_type": "code",
   "execution_count": 316,
   "metadata": {},
   "outputs": [],
   "source": [
    "class Markowitz():\n",
    "    \n",
    "    \"Will remain a static class and take updates\"\n",
    "    \n",
    "    def __init__(self,r, r_cov):\n",
    "        \"\"\"\n",
    "        Purpose of thie class is to generate an optimal portfolio weighting based on a given mean\n",
    "        and covariance matrix\n",
    "        \"\"\"\n",
    "        self.r = r\n",
    "        self.r_cov = r_cov\n",
    "        \n",
    "    def normal_update(self,desired_r,r,r_cov):\n",
    "        \"\"\"\n",
    "        Update function will be called when a covariance and return matrix are given to be processed.\n",
    "        \n",
    "        Returns:\n",
    "            (strat_alloc (np.array (n,),strat_var (float))\n",
    "        \"\"\"\n",
    "        self.r = r\n",
    "        self.r_cov = r_cov\n",
    "        \n",
    "        strat_alloc = self.design_portfolio_for_return(desired_r)\n",
    "        strat_var = self.variance_of_strategy(strat_alloc)\n",
    "        \n",
    "        return (strat_alloc ,strat_var)\n",
    "    \n",
    "    def multi_update(self,desired_rs,r,r_cov):\n",
    "        \"\"\"\n",
    "        Update function will be called when a covariance and return matrix are given to be processed.\n",
    "        \n",
    "        Returns:\n",
    "            (strat_alloc (np.array (n,n) ,strat_var (np.array (n,))\n",
    "        \"\"\"\n",
    "        self.r = r\n",
    "        self.r_cov = r_cov\n",
    "        \n",
    "        strat_allocs = self.design_portfolios_for_return(desired_rs)\n",
    "        strat_vars = np.array([self.variance_of_strategy(strat_alloc) for strat_alloc in strat_allocs])\n",
    "        \n",
    "        return (strat_allocs ,strat_vars)\n",
    "        \n",
    "    def design_portfolio_for_return(self,r,reinvert=True):\n",
    "        \"\"\"\n",
    "        Given a specific return, we design a portfolio allocation in order to achieve that mean. We additionally return\n",
    "        the variance associated with that return. The notation for this derivation is consistent with notes that will be\n",
    "        included in this file.\n",
    "        \n",
    "        \"\"\"\n",
    "        logging.info(\"Calculating Optimal Portfolio\")\n",
    "        e = np.ones(self.r.shape)\n",
    "        \n",
    "        #Will automatically handle errors\n",
    "        if reinvert:\n",
    "            self.inv_cov = self.invert_covariance_matrix()\n",
    "        \n",
    "        #Calculating entries in C\n",
    "        c_r=np.dot(self.inv_cov,self.r)\n",
    "        c_e=np.dot(self.inv_cov,e)\n",
    "        \n",
    "        c_rr= np.dot(self.r,c_r)\n",
    "        c_re= np.dot(self.r,c_e)\n",
    "        c_er= np.dot(e,c_r)\n",
    "        c_ee= np.dot(e,c_e)\n",
    "        \n",
    "        det_C = c_ee*c_rr-c_re*c_er\n",
    "        \n",
    "        C_inv = np.array([[c_ee,-c_re],[-c_er,c_rr]])/det_C\n",
    "        \n",
    "        #Deriving the Lagrangian Multipliers\n",
    "        lamb, mu = np.dot(C_inv,np.array([r,1]))\n",
    "        \n",
    "        #Optimal Asset Allocation\n",
    "        omega = lamb*c_r+mu*c_e\n",
    "        \n",
    "        return omega\n",
    "    \n",
    "    def design_portfolios_for_return(self,rs,reinvert=True):\n",
    "        \"\"\"\n",
    "        Uses the two fund theorem and vectorized operations in order to quickly create a \n",
    "        range of different portfolios to run.\n",
    "        \"\"\"\n",
    "        logging.info(\"Calculating Optimal Portfolios\")\n",
    "        e = np.ones(self.r.shape)\n",
    "        \n",
    "        #Will automatically handle errors\n",
    "        if reinvert:\n",
    "            self.inv_cov = self.invert_covariance_matrix()\n",
    "        \n",
    "        #Calculating the two asset allocations for optimal\n",
    "        v_1=np.dot(self.inv_cov,e) #min variance\n",
    "        v_2=np.dot(self.inv_cov,self.r) #max return\n",
    "        \n",
    "        #Calculating entries in C\n",
    "        c_r=v_2\n",
    "        c_e=v_1\n",
    "        \n",
    "        c_rr= np.dot(self.r,c_r)\n",
    "        c_re= np.dot(self.r,c_e)\n",
    "        c_er= np.dot(e,c_r)\n",
    "        c_ee= np.dot(e,c_e)\n",
    "        \n",
    "        det_C = c_ee*c_rr-c_re*c_er\n",
    "        alphas = [c_ee*(c_rr-c_er*r)/det_C for r in rs]\n",
    "        \n",
    "        #Two identical funds\n",
    "        w_1=v_1/c_ee\n",
    "        w_2=v_2/c_er\n",
    "        \n",
    "        omegas = np.array([alpha*w_1+(1-alpha)*w_2 for alpha in alphas])\n",
    "        \n",
    "        return omegas\n",
    "    \n",
    "    def invert_covariance_matrix(self):\n",
    "        \"\"\"\n",
    "        Will invert covariance matrices \n",
    "        \"\"\"\n",
    "        logging.info(\"Attempting to Invert Matrix... \")\n",
    "        try:\n",
    "            return np.linalg.inv(self.r_cov)\n",
    "        except:\n",
    "            return self.handle_covariance_singularity()\n",
    "        \n",
    "    def variance_of_strategy(self,omega, reinvert=False):\n",
    "        \"\"\"\n",
    "        Will always return the variance of the most current strategy. Will allow us to quantify risk.\n",
    "        \"\"\"\n",
    "        logging.info(\"Calculating Variance of Strategy\")\n",
    "        if reinvert:\n",
    "            self.inv_cov = self.invert_covariance_matrix()\n",
    "        \n",
    "        return np.dot(omega,np.dot(self.r_cov,omega))\n",
    "            \n",
    "    def handle_covariance_singularity(self,epsilon=1e-8):\n",
    "        logging.error(\"Singular Matrix, perturbing it...\")\n",
    "        self.r_cov+=epsilon*np.eye(self.r_cov.shape[0])\n",
    "        return self.invert_covariance_matrix()\n",
    "    "
   ]
  },
  {
   "cell_type": "code",
   "execution_count": 317,
   "metadata": {},
   "outputs": [],
   "source": [
    "mark = Markowitz(np.array([0.1,0.05,0.06,0.03,0.02,0.03,0.06,0.03,0.02,0.03]),np.random.randn(10,10))"
   ]
  },
  {
   "cell_type": "code",
   "execution_count": 329,
   "metadata": {},
   "outputs": [],
   "source": [
    "mark = Markowitz(np.array([0.1,0.05,0.06,0.03,0.02,0.03,0.06,0.03,0.02,0.03]),np.zeros((10,10)))"
   ]
  },
  {
   "cell_type": "code",
   "execution_count": 330,
   "metadata": {},
   "outputs": [
    {
     "name": "stderr",
     "output_type": "stream",
     "text": [
      "ERROR:root:Singular Matrix, perturbing it...\n"
     ]
    }
   ],
   "source": [
    "v1 = mark.design_portfolio_for_return(0.2)"
   ]
  },
  {
   "cell_type": "code",
   "execution_count": 331,
   "metadata": {},
   "outputs": [
    {
     "data": {
      "text/plain": [
       "0.2000000000000001"
      ]
     },
     "execution_count": 331,
     "metadata": {},
     "output_type": "execute_result"
    }
   ],
   "source": [
    "np.dot(mark.r,v1)"
   ]
  },
  {
   "cell_type": "code",
   "execution_count": 332,
   "metadata": {},
   "outputs": [
    {
     "data": {
      "text/plain": [
       "4.493761140819965e-08"
      ]
     },
     "execution_count": 332,
     "metadata": {},
     "output_type": "execute_result"
    }
   ],
   "source": [
    "mark.variance_of_strategy(v1)"
   ]
  },
  {
   "cell_type": "code",
   "execution_count": 303,
   "metadata": {},
   "outputs": [
    {
     "name": "stdout",
     "output_type": "stream",
     "text": [
      "33.8 µs ± 437 ns per loop (mean ± std. dev. of 7 runs, 10000 loops each)\n"
     ]
    }
   ],
   "source": [
    "%timeit v1 = mark.design_portfolio_for_return(0.2)"
   ]
  },
  {
   "cell_type": "markdown",
   "metadata": {},
   "source": [
    "# Attempt to use the two fund design portfolio"
   ]
  },
  {
   "cell_type": "code",
   "execution_count": 304,
   "metadata": {},
   "outputs": [],
   "source": [
    "v2 = mark.design_portfolios_for_return([0.2,0.3])"
   ]
  },
  {
   "cell_type": "code",
   "execution_count": 305,
   "metadata": {},
   "outputs": [
    {
     "data": {
      "text/plain": [
       "array([0.2, 0.3])"
      ]
     },
     "execution_count": 305,
     "metadata": {},
     "output_type": "execute_result"
    }
   ],
   "source": [
    "np.dot(v2,mark.r)"
   ]
  },
  {
   "cell_type": "code",
   "execution_count": 306,
   "metadata": {},
   "outputs": [
    {
     "name": "stdout",
     "output_type": "stream",
     "text": [
      "37.9 µs ± 1.51 µs per loop (mean ± std. dev. of 7 runs, 10000 loops each)\n"
     ]
    }
   ],
   "source": [
    "%timeit v2 = mark.design_portfolios_for_return([0.2,0.3])"
   ]
  },
  {
   "cell_type": "markdown",
   "metadata": {},
   "source": [
    "# Testing Update Scheme"
   ]
  },
  {
   "cell_type": "code",
   "execution_count": 307,
   "metadata": {},
   "outputs": [
    {
     "data": {
      "text/plain": [
       "(array([ -6.32349994,  -1.88736701,  13.21044225, -11.63985919,\n",
       "          3.28141062, -16.60331397,  13.27771958,   3.90112051,\n",
       "          1.14384129,   2.63950586]), -106.78808038253595)"
      ]
     },
     "execution_count": 307,
     "metadata": {},
     "output_type": "execute_result"
    }
   ],
   "source": [
    "mark.normal_update(0.3,np.array([0.1,0.05,0.06,0.03,0.02,0.03,0.06,0.03,0.02,0.03]),np.random.randn(10,10))"
   ]
  },
  {
   "cell_type": "code",
   "execution_count": 308,
   "metadata": {},
   "outputs": [
    {
     "data": {
      "text/plain": [
       "(array([[ -0.4665493 ,   0.51134135,   0.22699229,   6.22151297,\n",
       "          -1.31321181,  -1.39585644,  -0.04105544,   1.02128907,\n",
       "          -7.37214001,   3.60767731],\n",
       "        [ -0.60426879,   0.58965009,   0.22117727,   7.50423167,\n",
       "          -1.57487721,  -1.74129274,  -0.03553866,   1.19028409,\n",
       "          -8.91878832,   4.3694226 ],\n",
       "        [ -0.74198829,   0.66795884,   0.21536225,   8.78695037,\n",
       "          -1.83654261,  -2.08672904,  -0.03002188,   1.3592791 ,\n",
       "         -10.46543662,   5.13116789]]),\n",
       " array([-2.31224475, -2.58436593, -2.80769303]))"
      ]
     },
     "execution_count": 308,
     "metadata": {},
     "output_type": "execute_result"
    }
   ],
   "source": [
    "mark.multi_update([0.1,0.11,0.12],np.array([0.1,0.05,0.06,0.03,0.02,0.03,0.06,0.03,0.02,0.03]),np.random.randn(10,10))"
   ]
  },
  {
   "cell_type": "code",
   "execution_count": 310,
   "metadata": {},
   "outputs": [
    {
     "name": "stdout",
     "output_type": "stream",
     "text": [
      "44.5 µs ± 975 ns per loop (mean ± std. dev. of 7 runs, 10000 loops each)\n"
     ]
    }
   ],
   "source": [
    "%timeit mark.normal_update(0.3,np.array([0.1,0.05,0.06,0.03,0.02,0.03,0.06,0.03,0.02,0.03]),np.random.randn(10,10))"
   ]
  },
  {
   "cell_type": "code",
   "execution_count": 309,
   "metadata": {},
   "outputs": [
    {
     "name": "stdout",
     "output_type": "stream",
     "text": [
      "59.2 µs ± 1.9 µs per loop (mean ± std. dev. of 7 runs, 10000 loops each)\n"
     ]
    }
   ],
   "source": [
    "%timeit mark.multi_update([0.1,0.11,0.12],np.array([0.1,0.05,0.06,0.03,0.02,0.03,0.06,0.03,0.02,0.03]),np.random.randn(10,10))"
   ]
  },
  {
   "cell_type": "markdown",
   "metadata": {},
   "source": [
    "Questions:\n",
    "\n",
    "- What are limitations on the cost of executing/making trades\n",
    "- How fast does this need to run\n",
    "- How much are we allowed to leverage/short?\n",
    "- Is there going to be a risk free asset?"
   ]
  }
 ],
 "metadata": {
  "kernelspec": {
   "display_name": "Python 3",
   "language": "python",
   "name": "python3"
  },
  "language_info": {
   "codemirror_mode": {
    "name": "ipython",
    "version": 3
   },
   "file_extension": ".py",
   "mimetype": "text/x-python",
   "name": "python",
   "nbconvert_exporter": "python",
   "pygments_lexer": "ipython3",
   "version": "3.6.7"
  }
 },
 "nbformat": 4,
 "nbformat_minor": 2
}
