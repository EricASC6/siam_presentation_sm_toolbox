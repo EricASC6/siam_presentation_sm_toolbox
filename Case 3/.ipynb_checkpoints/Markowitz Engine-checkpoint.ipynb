{
 "cells": [
  {
   "cell_type": "code",
   "execution_count": 126,
   "metadata": {},
   "outputs": [],
   "source": [
    "import numpy as np\n",
    "import logging"
   ]
  },
  {
   "cell_type": "code",
   "execution_count": 276,
   "metadata": {},
   "outputs": [],
   "source": [
    "class Markowitz():\n",
    "    \n",
    "    \"Will remain a static class and take updates\"\n",
    "    \n",
    "    def __init__(self,r, r_cov):\n",
    "        \"\"\"\n",
    "        Purpose of thie class is to generate an optimal portfolio weighting based on a given mean\n",
    "        and covariance matrix\n",
    "        \"\"\"\n",
    "        self.r = r\n",
    "        self.r_cov = r_cov\n",
    "        \n",
    "    def normal_update(self,desired_r,r,r_cov):\n",
    "        \"\"\"\n",
    "        Update function will be called when a covariance and return matrix are given to be processed.\n",
    "        \n",
    "        Returns:\n",
    "            (strat_alloc (np.array (n,),strat_var (float))\n",
    "        \"\"\"\n",
    "        self.r = r\n",
    "        self.r_cov = r_cov\n",
    "        \n",
    "        strat_alloc = self.design_portfolio_for_return(desired_r)\n",
    "        strat_var = self.variance_of_strategy(strat_alloc)\n",
    "        \n",
    "        return (strat_alloc ,strat_var)\n",
    "    \n",
    "    def multi_update(self,desired_rs,r,r_cov):\n",
    "        \"\"\"\n",
    "        Update function will be called when a covariance and return matrix are given to be processed.\n",
    "        \n",
    "        Returns:\n",
    "            (strat_alloc (np.array (n,n) ,strat_var (np.array (n,))\n",
    "        \"\"\"\n",
    "        self.r = r\n",
    "        self.r_cov = r_cov\n",
    "        \n",
    "        strat_allocs = self.design_portfolios_for_return(desired_r)\n",
    "        strat_vars = np.array([self.variance_of_strategy(strat_alloc) for strat_alloc in strat_allocs])\n",
    "        \n",
    "        return (strat_allocs ,strat_vars)\n",
    "        \n",
    "    def design_portfolio_for_return(self,r,reinvert=True):\n",
    "        \"\"\"\n",
    "        Given a specific return, we design a portfolio allocation in order to achieve that mean. We additionally return\n",
    "        the variance associated with that return. The notation for this derivation is consistent with notes that will be\n",
    "        included in this file.\n",
    "        \n",
    "        \"\"\"\n",
    "        logging.info(\"Calculating Optimal Portfolio\")\n",
    "        e = np.ones(self.r.shape)\n",
    "        \n",
    "        #Will automatically handle errors\n",
    "        if reinvert:\n",
    "            self.inv_cov = self.invert_covariance_matrix()\n",
    "        \n",
    "        #Calculating entries in C\n",
    "        c_r=np.dot(self.inv_cov,self.r)\n",
    "        c_e=np.dot(self.inv_cov,e)\n",
    "        \n",
    "        c_rr= np.dot(self.r,c_r)\n",
    "        c_re= np.dot(self.r,c_e)\n",
    "        c_er= np.dot(e,c_r)\n",
    "        c_ee= np.dot(e,c_e)\n",
    "        \n",
    "        det_C = c_ee*c_rr-c_re*c_er\n",
    "        \n",
    "        C_inv = np.array([[c_ee,-c_re],[-c_er,c_rr]])/det_C\n",
    "        \n",
    "        #Deriving the Lagrangian Multipliers\n",
    "        lamb, mu = np.dot(C_inv,np.array([r,1]))\n",
    "        \n",
    "        #Optimal Asset Allocation\n",
    "        omega = lamb*c_r+mu*c_e\n",
    "        \n",
    "        return omega\n",
    "    \n",
    "    def design_portfolios_for_return(self,rs,reinvert=True):\n",
    "        \"\"\"\n",
    "        Uses the two fund theorem and vectorized operations in order to quickly create a \n",
    "        range of different portfolios to run.\n",
    "        \"\"\"\n",
    "        e = np.ones(self.r.shape)\n",
    "        \n",
    "        #Will automatically handle errors\n",
    "        if reinvert:\n",
    "            self.inv_cov = self.invert_covariance_matrix()\n",
    "        \n",
    "        #Calculating the two asset allocations for optimal\n",
    "        v_1=np.dot(self.inv_cov,e) #min variance\n",
    "        v_2=np.dot(self.inv_cov,self.r) #max return\n",
    "        \n",
    "        #Calculating entries in C\n",
    "        c_r=v_2\n",
    "        c_e=v_1\n",
    "        \n",
    "        c_rr= np.dot(self.r,c_r)\n",
    "        c_re= np.dot(self.r,c_e)\n",
    "        c_er= np.dot(e,c_r)\n",
    "        c_ee= np.dot(e,c_e)\n",
    "        \n",
    "        det_C = c_ee*c_rr-c_re*c_er\n",
    "        alphas = [c_ee*(c_rr-c_er*r)/det_C for r in rs]\n",
    "        \n",
    "        #Two identical funds\n",
    "        w_1=v_1/c_ee\n",
    "        w_2=v_2/c_er\n",
    "        \n",
    "        omegas = np.array([alpha*w_1+(1-alpha)*w_2 for alpha in alphas])\n",
    "        \n",
    "        return omegas\n",
    "    \n",
    "    def invert_covariance_matrix(self):\n",
    "        \"\"\"\n",
    "        Will invert covariance matrices \n",
    "        \"\"\"\n",
    "        try:\n",
    "            return np.linalg.inv(self.r_cov)\n",
    "        except:\n",
    "            return self.handle_covariance_singularity()\n",
    "        \n",
    "    def variance_of_strategy(self,omega, reinvert=False):\n",
    "        \"\"\"\n",
    "        Will always return the variance of the most current strategy. Will allow us to quantify risk.\n",
    "        \"\"\"\n",
    "        if reinvert:\n",
    "            self.inv_cov = self.invert_covariance_matrix()\n",
    "        \n",
    "        return np.dot(omega,np.dot(self.r_cov,omega))\n",
    "            \n",
    "    def handle_covariance_singularity(self,epsilon=1e-8):\n",
    "        self.r_cov+=epsilon*np.eye(self.r_cov.shape[0])\n",
    "        return self.invert_covariance_matrix()\n",
    "    "
   ]
  },
  {
   "cell_type": "code",
   "execution_count": 277,
   "metadata": {},
   "outputs": [],
   "source": [
    "mark = Markowitz(np.array([0.1,0.05,0.06,0.03,0.02,0.03,0.06,0.03,0.02,0.03]),np.random.randn(10,10))"
   ]
  },
  {
   "cell_type": "code",
   "execution_count": 278,
   "metadata": {},
   "outputs": [],
   "source": [
    "v1 = mark.design_portfolio_for_return(0.2)"
   ]
  },
  {
   "cell_type": "code",
   "execution_count": 279,
   "metadata": {},
   "outputs": [
    {
     "data": {
      "text/plain": [
       "0.2"
      ]
     },
     "execution_count": 279,
     "metadata": {},
     "output_type": "execute_result"
    }
   ],
   "source": [
    "np.dot(mark.r,v1)"
   ]
  },
  {
   "cell_type": "code",
   "execution_count": 280,
   "metadata": {},
   "outputs": [
    {
     "data": {
      "text/plain": [
       "7.63354185533489"
      ]
     },
     "execution_count": 280,
     "metadata": {},
     "output_type": "execute_result"
    }
   ],
   "source": [
    "mark.variance_of_strategy(v1)"
   ]
  },
  {
   "cell_type": "markdown",
   "metadata": {},
   "source": [
    "# Attempt to use the two fund design portfolio"
   ]
  },
  {
   "cell_type": "code",
   "execution_count": 289,
   "metadata": {},
   "outputs": [],
   "source": [
    "v2= mark.design_portfolios_for_return([0.2,0.3])"
   ]
  },
  {
   "cell_type": "code",
   "execution_count": 290,
   "metadata": {},
   "outputs": [
    {
     "data": {
      "text/plain": [
       "array([0.2, 0.3])"
      ]
     },
     "execution_count": 290,
     "metadata": {},
     "output_type": "execute_result"
    }
   ],
   "source": [
    "np.dot(v2,mark.r)"
   ]
  },
  {
   "cell_type": "markdown",
   "metadata": {},
   "source": [
    "Questions:\n",
    "\n",
    "- What are limitations on the cost of executing/making trades\n",
    "- How fast does this need to run\n",
    "- How much are we allowed to leverage/short?\n",
    "- Is there going to be a risk free asset?"
   ]
  }
 ],
 "metadata": {
  "kernelspec": {
   "display_name": "Python 3",
   "language": "python",
   "name": "python3"
  },
  "language_info": {
   "codemirror_mode": {
    "name": "ipython",
    "version": 3
   },
   "file_extension": ".py",
   "mimetype": "text/x-python",
   "name": "python",
   "nbconvert_exporter": "python",
   "pygments_lexer": "ipython3",
   "version": "3.6.7"
  }
 },
 "nbformat": 4,
 "nbformat_minor": 2
}
