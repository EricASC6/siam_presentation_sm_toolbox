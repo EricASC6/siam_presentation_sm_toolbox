{
 "cells": [
  {
   "cell_type": "code",
   "execution_count": 5,
   "metadata": {},
   "outputs": [],
   "source": [
    "import numpy as np\n",
    "import matplotlib.pyplot as plt"
   ]
  },
  {
   "cell_type": "markdown",
   "metadata": {},
   "source": [
    "# OLS"
   ]
  },
  {
   "cell_type": "code",
   "execution_count": 6,
   "metadata": {},
   "outputs": [],
   "source": [
    "def OLS(x,y,to_plot=False):\n",
    "    \"\"\"\n",
    "    Possible Exception when there is only one data point present?\n",
    "    \"\"\"\n",
    "    \n",
    "    A = np.ones((x.shape[0], 2))\n",
    "    A[:, 1] = x\n",
    "    p = np.linalg.solve(np.dot(A.transpose(), A), np.dot(A.transpose(), y))\n",
    "    \n",
    "    f = lambda x: p[0] + p[1] * x\n",
    "    E = np.linalg.norm(y - f(x), ord=2)\n",
    "    \n",
    "    if to_plot:\n",
    "        fig = plt.figure()\n",
    "        axes = fig.add_subplot(1, 1, 1)\n",
    "\n",
    "        axes.plot(x, y, 'ko')\n",
    "        axes.plot(x, f(x), 'r')\n",
    "        axes.set_title(\"Least Squares Fit to Data\")\n",
    "        axes.set_xlabel(\"$x$\")\n",
    "        axes.set_ylabel(\"$f(x)$ and $y_i$\")\n",
    "\n",
    "        plt.show()\n",
    "        print(\"E = %s\" % E)\n",
    "    \n",
    "    return p"
   ]
  },
  {
   "cell_type": "code",
   "execution_count": null,
   "metadata": {},
   "outputs": [],
   "source": [
    "x = np.linspace(-1.0, 1.0, 100)\n",
    "y = x + np.random.random((100)) "
   ]
  },
  {
   "cell_type": "code",
   "execution_count": 10,
   "metadata": {},
   "outputs": [
    {
     "data": {
      "image/png": "[encoded data removed]",
      "text/plain": [
       "<Figure size 432x288 with 1 Axes>"
      ]
     },
     "metadata": {},
     "output_type": "display_data"
    },
    {
     "name": "stdout",
     "output_type": "stream",
     "text": [
      "E = 2.9097461728389336\n"
     ]
    },
    {
     "data": {
      "text/plain": [
       "array([0.53826836, 1.03166991])"
      ]
     },
     "execution_count": 10,
     "metadata": {},
     "output_type": "execute_result"
    }
   ],
   "source": [
    "OLS(x,y,to_plot=True)"
   ]
  },
  {
   "cell_type": "code",
   "execution_count": 1,
   "metadata": {},
   "outputs": [],
   "source": [
    "def rate_of_return(price_data, time_interval):\n",
    "    \"\"\"\n",
    "    Problems I see with this could be that we may not have enough data points in order to perform the OLS. We assume uniform\n",
    "    time spacing.\n",
    "    \n",
    "    price_data: (stocks_axis, time_axis)\n",
    "    time_interval: () needs to be established before hand\n",
    "    \n",
    "    Args:\n",
    "    \n",
    "    Returns:\n",
    "    \n",
    "    Raises:\n",
    "        ValueError to when not enough data is passed in order to perform the OLS\n",
    "    \"\"\"\n",
    "    dimensions = price_data.shape\n",
    "    \n",
    "    if dimensions[1]<=1:\n",
    "        raise ValueError('rate_of_return: Not Enough Dimensions for OLS')\n",
    "    \n",
    "    x = np.linspace()\n",
    "    "
   ]
  }
 ],
 "metadata": {
  "kernelspec": {
   "display_name": "Python 3",
   "language": "python",
   "name": "python3"
  },
  "language_info": {
   "codemirror_mode": {
    "name": "ipython",
    "version": 3
   },
   "file_extension": ".py",
   "mimetype": "text/x-python",
   "name": "python",
   "nbconvert_exporter": "python",
   "pygments_lexer": "ipython3",
   "version": "3.6.7"
  }
 },
 "nbformat": 4,
 "nbformat_minor": 2
}
